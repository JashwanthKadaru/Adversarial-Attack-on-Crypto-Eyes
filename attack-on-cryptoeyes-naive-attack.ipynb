{
 "cells": [
  {
   "cell_type": "code",
   "execution_count": null,
   "id": "47e31500",
   "metadata": {
    "execution": {
     "iopub.execute_input": "2025-08-07T08:24:55.303578Z",
     "iopub.status.busy": "2025-08-07T08:24:55.303169Z",
     "iopub.status.idle": "2025-08-07T08:25:14.726857Z",
     "shell.execute_reply": "2025-08-07T08:25:14.725962Z"
    },
    "papermill": {
     "duration": 19.430183,
     "end_time": "2025-08-07T08:25:14.728895",
     "exception": false,
     "start_time": "2025-08-07T08:24:55.298712",
     "status": "completed"
    },
    "tags": []
   },
   "outputs": [
    {
     "name": "stderr",
     "output_type": "stream",
     "text": [
      "2025-08-07 08:24:57.299700: E external/local_xla/xla/stream_executor/cuda/cuda_fft.cc:477] Unable to register cuFFT factory: Attempting to register factory for plugin cuFFT when one has already been registered\n",
      "WARNING: All log messages before absl::InitializeLog() is called are written to STDERR\n",
      "E0000 00:00:1754555097.553948      13 cuda_dnn.cc:8310] Unable to register cuDNN factory: Attempting to register factory for plugin cuDNN when one has already been registered\n",
      "E0000 00:00:1754555097.631001      13 cuda_blas.cc:1418] Unable to register cuBLAS factory: Attempting to register factory for plugin cuBLAS when one has already been registered\n"
     ]
    },
    {
     "name": "stdout",
     "output_type": "stream",
     "text": [
      "Downloading data from https://storage.googleapis.com/tensorflow/tf-keras-datasets/mnist.npz\n",
      "\u001b[1m11490434/11490434\u001b[0m \u001b[32m━━━━━━━━━━━━━━━━━━━━\u001b[0m\u001b[37m\u001b[0m \u001b[1m0s\u001b[0m 0us/step\n"
     ]
    }
   ],
   "source": [
    "import numpy as np\n",
    "import pandas as pd\n",
    "import os\n",
    "import tensorflow as tf\n",
    "from tensorflow.keras.datasets import mnist\n",
    "from Crypto.Cipher import AES\n",
    "from Crypto.Random import get_random_bytes\n",
    "import random\n",
    "\n",
    "# Load MNIST dataset\n",
    "(x_train, y_train), (x_test, y_test) = mnist.load_data()\n",
    "x_train = x_train.astype(np.uint8)\n",
    "x_test = x_test.astype(np.uint8)\n",
    "\n",
    "def generate_keys(img_shape=(28, 28), perm_block_size=1):\n",
    "    h, w = img_shape[0] // perm_block_size, img_shape[1] // perm_block_size\n",
    "    num_perm_blocks = h * w\n",
    "    perm_key = list(range(num_perm_blocks))\n",
    "    random.shuffle(perm_key)\n",
    "    aes_key = get_random_bytes(16)\n",
    "    return aes_key, perm_key\n",
    "\n",
    "def encrypt_and_permute_images(images, aes_key, perm_key, aes_block_size=4, perm_block_size=1):\n",
    "    cipher = AES.new(aes_key, AES.MODE_ECB)\n",
    "    encrypted_images = []\n",
    "\n",
    "    for img in images:\n",
    "        # Step 1: Encrypt using 4x4 AES blocks\n",
    "        encrypted_img = np.zeros((28, 28), dtype=np.uint8)\n",
    "        for i in range(0, 28, aes_block_size):\n",
    "            for j in range(0, 28, aes_block_size):\n",
    "                block = img[i:i+aes_block_size, j:j+aes_block_size].flatten()\n",
    "                encrypted = cipher.encrypt(bytes(block))\n",
    "                enc_block = np.frombuffer(encrypted, dtype=np.uint8).reshape((aes_block_size, aes_block_size))\n",
    "                encrypted_img[i:i+aes_block_size, j:j+aes_block_size] = enc_block\n",
    "\n",
    "        # Step 2: Permute using 2x2 blocks\n",
    "        blocks = []\n",
    "        for i in range(0, 28, perm_block_size):\n",
    "            for j in range(0, 28, perm_block_size):\n",
    "                blocks.append(encrypted_img[i:i+perm_block_size, j:j+perm_block_size].copy())\n",
    "        \n",
    "        permuted_blocks = [blocks[i] for i in perm_key]\n",
    "        permuted_img = np.zeros((28, 28), dtype=np.uint8)\n",
    "        idx = 0\n",
    "        for i in range(0, 28, perm_block_size):\n",
    "            for j in range(0, 28, perm_block_size):\n",
    "                permuted_img[i:i+perm_block_size, j:j+perm_block_size] = permuted_blocks[idx]\n",
    "                idx += 1\n",
    "        \n",
    "        encrypted_images.append(permuted_img)\n",
    "\n",
    "    return np.array(encrypted_images, dtype=np.uint8)\n"
   ]
  },
  {
   "cell_type": "code",
   "execution_count": 3,
   "id": "ed29aa79",
   "metadata": {
    "execution": {
     "iopub.execute_input": "2025-08-07T08:25:14.737265Z",
     "iopub.status.busy": "2025-08-07T08:25:14.736705Z",
     "iopub.status.idle": "2025-08-07T08:27:11.442694Z",
     "shell.execute_reply": "2025-08-07T08:27:11.441482Z"
    },
    "papermill": {
     "duration": 116.712266,
     "end_time": "2025-08-07T08:27:11.444745",
     "exception": false,
     "start_time": "2025-08-07T08:25:14.732479",
     "status": "completed"
    },
    "tags": []
   },
   "outputs": [],
   "source": [
    "aes_key, perm_key = generate_keys()\n",
    "x_train_enc = encrypt_and_permute_images(x_train, aes_key, perm_key)\n",
    "x_test_enc = encrypt_and_permute_images(x_test, aes_key, perm_key)"
   ]
  },
  {
   "cell_type": "code",
   "execution_count": 4,
   "id": "68b6e54c",
   "metadata": {
    "execution": {
     "iopub.execute_input": "2025-08-07T08:27:11.453461Z",
     "iopub.status.busy": "2025-08-07T08:27:11.453123Z",
     "iopub.status.idle": "2025-08-07T08:27:11.459796Z",
     "shell.execute_reply": "2025-08-07T08:27:11.458882Z"
    },
    "papermill": {
     "duration": 0.012822,
     "end_time": "2025-08-07T08:27:11.461417",
     "exception": false,
     "start_time": "2025-08-07T08:27:11.448595",
     "status": "completed"
    },
    "tags": []
   },
   "outputs": [
    {
     "data": {
      "text/plain": [
       "784"
      ]
     },
     "execution_count": 4,
     "metadata": {},
     "output_type": "execute_result"
    }
   ],
   "source": [
    "len(perm_key)"
   ]
  },
  {
   "cell_type": "markdown",
   "id": "13399484",
   "metadata": {},
   "source": [
    "##  Predicting using Maximum Similarity Score obtained for each label"
   ]
  },
  {
   "cell_type": "code",
   "execution_count": 5,
   "id": "94f87f08",
   "metadata": {
    "execution": {
     "iopub.execute_input": "2025-08-07T08:27:11.469764Z",
     "iopub.status.busy": "2025-08-07T08:27:11.469385Z",
     "iopub.status.idle": "2025-08-07T09:33:05.951086Z",
     "shell.execute_reply": "2025-08-07T09:33:05.950078Z"
    },
    "papermill": {
     "duration": 3954.488368,
     "end_time": "2025-08-07T09:33:05.953276",
     "exception": false,
     "start_time": "2025-08-07T08:27:11.464908",
     "status": "completed"
    },
    "tags": []
   },
   "outputs": [
    {
     "name": "stdout",
     "output_type": "stream",
     "text": [
      "Date * Time:  2025-08-07 08:27:11.671792 \n",
      "Timestamp:  2025-08-07 08:27:11.671797\n"
     ]
    },
    {
     "name": "stderr",
     "output_type": "stream",
     "text": [
      "Predicting for 10000 MNIST encrypted-permuted Test images....: 100%|██████████| 10000/10000 [1:05:52<00:00,  2.53it/s]"
     ]
    },
    {
     "name": "stdout",
     "output_type": "stream",
     "text": [
      "Date * Time:  2025-08-07 09:33:05.946302 \n",
      "Timestamp:  2025-08-07 09:33:05.946306\n",
      "Accuracy: 12.77%\n"
     ]
    },
    {
     "name": "stderr",
     "output_type": "stream",
     "text": [
      "\n"
     ]
    }
   ],
   "source": [
    "from collections import defaultdict\n",
    "import random\n",
    "from tqdm import tqdm\n",
    "import datetime\n",
    "from concurrent.futures import ProcessPoolExecutor\n",
    "import multiprocessing\n",
    "\n",
    "def sample_train_per_label(x_train_enc, y_train, num_samples=6500):\n",
    "    label_to_images = defaultdict(list)\n",
    "    for img, label in zip(x_train_enc, y_train):\n",
    "        if len(label_to_images[label]) < num_samples:\n",
    "            label_to_images[label].append(img)\n",
    "        if all(len(imgs) == num_samples for imgs in label_to_images.values()):\n",
    "            break\n",
    "    x_train_sampled = []\n",
    "    y_train_sampled = []\n",
    "    for label in range(10):\n",
    "        x_train_sampled.extend(label_to_images[label])\n",
    "        y_train_sampled.extend([label] * num_samples)\n",
    "    return np.array(x_train_sampled), np.array(y_train_sampled)\n",
    "\n",
    "# Prediction logic\n",
    "def predict_label(test_img, x_train_small, y_train_small):\n",
    "    scores = defaultdict(list)\n",
    "    for train_img, label in zip(x_train_small, y_train_small):\n",
    "        match = np.sum(test_img == train_img)\n",
    "        scores[label].append(match / 784.0)\n",
    "    avg_scores = {label: np.mean(score_list) for label, score_list in scores.items()}\n",
    "    return max(avg_scores, key=avg_scores.get)\n",
    "    \n",
    "# Wrap predict_label to allow use in executor (requires args to be passed)\n",
    "def predict_label_wrapper(args):\n",
    "    test_img, x_train_small, y_train_small = args\n",
    "    return predict_label(test_img, x_train_small, y_train_small)\n",
    "\n",
    "# Sample 1000 images per label\n",
    "x_train_small, y_train_small = sample_train_per_label(x_train_enc, y_train, num_samples=6500)\n",
    "\n",
    "# Shuffle test images\n",
    "perm = np.random.permutation(len(x_test_enc))\n",
    "x_test_enc = x_test_enc[perm]\n",
    "y_test = y_test[perm]\n",
    "\n",
    "args_list = [(img, x_train_small, y_train_small) for img in x_test_enc]\n",
    "print(\"Date * Time: \", datetime.datetime.now(), \"\\nTimestamp: \", datetime.datetime.now())\n",
    "# Use 4 workers for parallel prediction\n",
    "with ProcessPoolExecutor(max_workers=4) as executor:\n",
    "    preds = list(tqdm(executor.map(predict_label_wrapper, args_list), total=len(x_test_enc), desc=\"Predicting for 10000 MNIST encrypted-permuted Test images....\"))\n",
    "print(\"Date * Time: \", datetime.datetime.now(), \"\\nTimestamp: \", datetime.datetime.now())\n",
    "\n",
    "acc = np.mean(np.array(preds) == y_test) * 100\n",
    "print(f\"Accuracy: {acc:.2f}%\")"
   ]
  },
  {
   "cell_type": "markdown",
   "id": "7b5f5835",
   "metadata": {},
   "source": [
    "## Predicting using Average Similarity Score Obtained for each label (performs significantly better than random guess)"
   ]
  },
  {
   "cell_type": "code",
   "execution_count": 6,
   "id": "1477d92e",
   "metadata": {
    "execution": {
     "iopub.execute_input": "2025-08-07T09:33:06.872949Z",
     "iopub.status.busy": "2025-08-07T09:33:06.872422Z",
     "iopub.status.idle": "2025-08-07T10:39:39.986554Z",
     "shell.execute_reply": "2025-08-07T10:39:39.985287Z"
    },
    "papermill": {
     "duration": 3993.579253,
     "end_time": "2025-08-07T10:39:39.988642",
     "exception": false,
     "start_time": "2025-08-07T09:33:06.409389",
     "status": "completed"
    },
    "tags": []
   },
   "outputs": [
    {
     "name": "stdout",
     "output_type": "stream",
     "text": [
      "Date * Time:  2025-08-07 09:33:07.041417 \n",
      "Timestamp:  2025-08-07 09:33:07.041421\n"
     ]
    },
    {
     "name": "stderr",
     "output_type": "stream",
     "text": [
      "Predicting for 10000 MNIST encrypted-permuted Test images....: 100%|██████████| 10000/10000 [1:06:31<00:00,  2.51it/s]"
     ]
    },
    {
     "name": "stdout",
     "output_type": "stream",
     "text": [
      "Date * Time:  2025-08-07 10:39:39.981521 \n",
      "Timestamp:  2025-08-07 10:39:39.981526\n",
      "Accuracy: 33.05%\n"
     ]
    },
    {
     "name": "stderr",
     "output_type": "stream",
     "text": [
      "\n"
     ]
    }
   ],
   "source": [
    "from collections import defaultdict\n",
    "import random\n",
    "from tqdm import tqdm\n",
    "import datetime\n",
    "from concurrent.futures import ProcessPoolExecutor\n",
    "import multiprocessing\n",
    "\n",
    "# Sample 1000 images per label\n",
    "x_train_small, y_train_small = sample_train_per_label(x_train_enc, y_train, num_samples=6500)\n",
    "\n",
    "# Shuffle test images\n",
    "perm = np.random.permutation(len(x_test_enc))\n",
    "x_test_enc = x_test_enc[perm]\n",
    "y_test = y_test[perm]\n",
    "\n",
    "def sample_train_per_label(x_train_enc, y_train, num_samples=6500):\n",
    "    label_to_images = defaultdict(list)\n",
    "    for img, label in zip(x_train_enc, y_train):\n",
    "        if len(label_to_images[label]) < num_samples:\n",
    "            label_to_images[label].append(img)\n",
    "        if all(len(imgs) == num_samples for imgs in label_to_images.values()):\n",
    "            break\n",
    "    x_train_sampled = []\n",
    "    y_train_sampled = []\n",
    "    for label in range(10):\n",
    "        x_train_sampled.extend(label_to_images[label])\n",
    "        y_train_sampled.extend([label] * num_samples)\n",
    "    return np.array(x_train_sampled), np.array(y_train_sampled)\n",
    "    \n",
    "# Prediction logic\n",
    "def predict_label(test_img, x_train_small, y_train_small):\n",
    "    scores = defaultdict(list)\n",
    "    for train_img, label in zip(x_train_small, y_train_small):\n",
    "        match = np.sum(test_img == train_img)\n",
    "        scores[label].append(match / 784.0)\n",
    "    avg_scores = {label: np.max(score_list) for label, score_list in scores.items()}\n",
    "    return max(avg_scores, key=avg_scores.get)\n",
    "    \n",
    "# Wrap predict_label to allow use in executor (requires args to be passed)\n",
    "def predict_label_wrapper(args):\n",
    "    test_img, x_train_small, y_train_small = args\n",
    "    return predict_label(test_img, x_train_small, y_train_small)\n",
    "\n",
    "args_list = [(img, x_train_small, y_train_small) for img in x_test_enc]\n",
    "print(\"Date * Time: \", datetime.datetime.now(), \"\\nTimestamp: \", datetime.datetime.now())\n",
    "# Use 4 workers for parallel prediction\n",
    "with ProcessPoolExecutor(max_workers=4) as executor:\n",
    "    preds = list(tqdm(executor.map(predict_label_wrapper, args_list), total=len(x_test_enc), desc=\"Predicting for 10000 MNIST encrypted-permuted Test images....\"))\n",
    "print(\"Date * Time: \", datetime.datetime.now(), \"\\nTimestamp: \", datetime.datetime.now())\n",
    "\n",
    "acc = np.mean(np.array(preds) == y_test) * 100\n",
    "print(f\"Accuracy: {acc:.2f}%\")"
   ]
  }
 ],
 "metadata": {
  "kaggle": {
   "accelerator": "none",
   "dataSources": [],
   "dockerImageVersionId": 31089,
   "isGpuEnabled": false,
   "isInternetEnabled": true,
   "language": "python",
   "sourceType": "notebook"
  },
  "kernelspec": {
   "display_name": "Python 3",
   "language": "python",
   "name": "python3"
  },
  "language_info": {
   "codemirror_mode": {
    "name": "ipython",
    "version": 3
   },
   "file_extension": ".py",
   "mimetype": "text/x-python",
   "name": "python",
   "nbconvert_exporter": "python",
   "pygments_lexer": "ipython3",
   "version": "3.11.13"
  },
  "papermill": {
   "default_parameters": {},
   "duration": 21217.567502,
   "end_time": "2025-08-07T14:18:26.042227",
   "environment_variables": {},
   "exception": true,
   "input_path": "__notebook__.ipynb",
   "output_path": "__notebook__.ipynb",
   "parameters": {},
   "start_time": "2025-08-07T08:24:48.474725",
   "version": "2.6.0"
  }
 },
 "nbformat": 4,
 "nbformat_minor": 5
}
